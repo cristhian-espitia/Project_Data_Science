{
  "nbformat": 4,
  "nbformat_minor": 0,
  "metadata": {
    "colab": {
      "provenance": [],
      "toc_visible": true,
      "mount_file_id": "1oJ5PIFT8mjSd-WPSSG1BYdEiNI-GXGZ3",
      "authorship_tag": "ABX9TyPul5H91rtfc2kxbghmoEFW",
      "include_colab_link": true
    },
    "kernelspec": {
      "name": "python3",
      "display_name": "Python 3"
    },
    "language_info": {
      "name": "python"
    }
  },
  "cells": [
    {
      "cell_type": "markdown",
      "metadata": {
        "id": "view-in-github",
        "colab_type": "text"
      },
      "source": [
        "<a href=\"https://colab.research.google.com/github/cristhian-espitia/Project_Data_Science/blob/main/1_Practica_limpieza.ipynb\" target=\"_parent\"><img src=\"https://colab.research.google.com/assets/colab-badge.svg\" alt=\"Open In Colab\"/></a>"
      ]
    },
    {
      "cell_type": "markdown",
      "source": [
        "\n",
        "\n",
        "EMPEZANDO A MANEJAR COLAB CON CIENCIA DE DATOS👊👍🙏\n",
        "\n",
        "\n",
        "\n"
      ],
      "metadata": {
        "id": "pB3uGQVrO7gH"
      }
    },
    {
      "cell_type": "markdown",
      "source": [
        "TRAEMOS LIBRERIAS A UTILIZAR:👩‍💻👩‍💻"
      ],
      "metadata": {
        "id": "_kskCISfPHua"
      }
    },
    {
      "cell_type": "code",
      "source": [
        "import pandas as pd\n",
        "import numpy as np"
      ],
      "metadata": {
        "id": "2i-4UxzCPJ6H"
      },
      "execution_count": null,
      "outputs": []
    },
    {
      "cell_type": "markdown",
      "source": [
        "TRAEMOS EL ARCHIVO PREVIAMENTE SUBIDO AL DRIVE"
      ],
      "metadata": {
        "id": "iODW86lmPTDL"
      }
    },
    {
      "cell_type": "markdown",
      "source": [
        "1.Traemos la priemra hoja de excel con datos y con 'skiprows' le decimos que omita las primeras 5 filas que no me traen niguna informacion\n",
        "2.Agregamos una columna extra para saber de que tabla pertenece ,esto es muy util para cuanod concatenemos todas las tablas"
      ],
      "metadata": {
        "id": "-yXJR4mnRkzQ"
      }
    },
    {
      "cell_type": "code",
      "source": [
        "df_gastos_varios=pd.read_excel('/content/drive/MyDrive/PROYETO CLASE/12_DICIEMBRE_2020.xlsx', sheet_name='GASTOS VARIOS', skiprows=5)\n",
        "df_gastos_varios['SHEET']= 'GASTOS VARIOS'"
      ],
      "metadata": {
        "id": "AWfxrMfVPYEK"
      },
      "execution_count": null,
      "outputs": []
    },
    {
      "cell_type": "code",
      "source": [
        "df_contratistas=pd.read_excel('/content/drive/MyDrive/PROYETO CLASE/12_DICIEMBRE_2020.xlsx', sheet_name='CONTRATISTAS Y FDO FED', skiprows=5)\n",
        "df_contratistas['SHEET']= 'CONTRATISTAS Y FDO FED'"
      ],
      "metadata": {
        "id": "up3ZkQ6XSTOJ"
      },
      "execution_count": null,
      "outputs": []
    },
    {
      "cell_type": "code",
      "source": [
        "df_ser_pprof=pd.read_excel('/content/drive/MyDrive/PROYETO CLASE/12_DICIEMBRE_2020.xlsx', sheet_name='SERV PPROF', skiprows=5)\n",
        "df_ser_pprof['SHEET']= 'SERV PPROF'"
      ],
      "metadata": {
        "id": "2CZwsOimSwHO"
      },
      "execution_count": null,
      "outputs": []
    },
    {
      "cell_type": "code",
      "source": [
        "df_comunicacion=pd.read_excel('/content/drive/MyDrive/PROYETO CLASE/12_DICIEMBRE_2020.xlsx', sheet_name='COMUNICACION', skiprows=5)\n",
        "df_comunicacion['SHEET']= 'COMUNICACION'"
      ],
      "metadata": {
        "id": "gdfiOifKTCYx"
      },
      "execution_count": null,
      "outputs": []
    },
    {
      "cell_type": "code",
      "source": [
        "df_serv_pers=pd.read_excel('/content/drive/MyDrive/PROYETO CLASE/12_DICIEMBRE_2020.xlsx', sheet_name='SERV. PERS.', skiprows=5)\n",
        "df_serv_pers['SHEET']= 'SERV. PERS.'"
      ],
      "metadata": {
        "id": "YCZOGyi4TO-l"
      },
      "execution_count": null,
      "outputs": []
    },
    {
      "cell_type": "markdown",
      "source": [
        "CONCATENAMOS NUESTRAS 5 TABLAS , usamos concat por que las tablas no tienen relacion con colunmas con llaves primarias o secundarias"
      ],
      "metadata": {
        "id": "QKvxKJVfVU6Q"
      }
    },
    {
      "cell_type": "code",
      "source": [
        "df_compras_dic = pd.concat([df_gastos_varios,df_contratistas,df_ser_pprof,df_comunicacion,df_serv_pers])"
      ],
      "metadata": {
        "id": "Mwskj7WbWue_"
      },
      "execution_count": null,
      "outputs": []
    },
    {
      "cell_type": "markdown",
      "source": [
        "Miramos , traemos los primeros 5 registros"
      ],
      "metadata": {
        "id": "tZF4oAAbXWaE"
      }
    },
    {
      "cell_type": "code",
      "source": [
        "df_compras_dic.head (5)"
      ],
      "metadata": {
        "colab": {
          "base_uri": "https://localhost:8080/",
          "height": 615
        },
        "id": "110yAZf0XZyQ",
        "outputId": "3b524209-ac6f-4f04-fe13-d8110985dc5a"
      },
      "execution_count": null,
      "outputs": [
        {
          "output_type": "execute_result",
          "data": {
            "text/plain": [
              "  NUM BEN                                    BENEFICIARIO           RFC  \\\n",
              "0  110152  LLANTAS Y SERVICIOS SERNA ANAHUAC,S.A. DE C.V.  LSS841015DV3   \n",
              "1  110152  LLANTAS Y SERVICIOS SERNA ANAHUAC,S.A. DE C.V.  LSS841015DV3   \n",
              "2  110152  LLANTAS Y SERVICIOS SERNA ANAHUAC,S.A. DE C.V.  LSS841015DV3   \n",
              "3  110152  LLANTAS Y SERVICIOS SERNA ANAHUAC,S.A. DE C.V.  LSS841015DV3   \n",
              "4  110152  LLANTAS Y SERVICIOS SERNA ANAHUAC,S.A. DE C.V.  LSS841015DV3   \n",
              "\n",
              "                  FACTURA      CONTRATO  \\\n",
              "0  LLS AF8458-158008-3972  OT. 20204373   \n",
              "1  LLS PF6916-158008-4041  OT. 20204425   \n",
              "2  LLS PF6917-158008-3975  OT. 20204376   \n",
              "3  LLS PF7004-158008-3971  OT. 20204374   \n",
              "4  LLS PF7137-158008-4554  OT. 20205130   \n",
              "\n",
              "                                            CONCEPTO TIPO         # OP  \\\n",
              "0  REEMPLAZO E INSTALACION DE AMORTIGUADORES (DEL...   TR    1019110.0   \n",
              "1  REEMPLAZO E INSTALACION DE OCHO BIRLOS Y NUEVE...   TR    1019110.0   \n",
              "2  REEMPLAZO DE DOS RINES  (17). PATRIMONIO 80383...   TR    1019110.0   \n",
              "3  REEMPLAZO DE  DOS RINES  (14). PATRIMONIO 8007...   TR    1019110.0   \n",
              "4  REEMPLAZO E INSTALACION DE RIN 14. PATRIMONIO ...   TR  299001496.0   \n",
              "\n",
              "       FECHA   IMPORTE          SHEET  \n",
              "0 2020-12-11  14911.80  GASTOS VARIOS  \n",
              "1 2020-12-11   2528.80  GASTOS VARIOS  \n",
              "2 2020-12-11   8500.02  GASTOS VARIOS  \n",
              "3 2020-12-11   2400.01  GASTOS VARIOS  \n",
              "4 2020-12-23   1537.00  GASTOS VARIOS  "
            ],
            "text/html": [
              "\n",
              "  <div id=\"df-61b2410d-6b25-48e3-adac-4e252e0b34c0\">\n",
              "    <div class=\"colab-df-container\">\n",
              "      <div>\n",
              "<style scoped>\n",
              "    .dataframe tbody tr th:only-of-type {\n",
              "        vertical-align: middle;\n",
              "    }\n",
              "\n",
              "    .dataframe tbody tr th {\n",
              "        vertical-align: top;\n",
              "    }\n",
              "\n",
              "    .dataframe thead th {\n",
              "        text-align: right;\n",
              "    }\n",
              "</style>\n",
              "<table border=\"1\" class=\"dataframe\">\n",
              "  <thead>\n",
              "    <tr style=\"text-align: right;\">\n",
              "      <th></th>\n",
              "      <th>NUM BEN</th>\n",
              "      <th>BENEFICIARIO</th>\n",
              "      <th>RFC</th>\n",
              "      <th>FACTURA</th>\n",
              "      <th>CONTRATO</th>\n",
              "      <th>CONCEPTO</th>\n",
              "      <th>TIPO</th>\n",
              "      <th># OP</th>\n",
              "      <th>FECHA</th>\n",
              "      <th>IMPORTE</th>\n",
              "      <th>SHEET</th>\n",
              "    </tr>\n",
              "  </thead>\n",
              "  <tbody>\n",
              "    <tr>\n",
              "      <th>0</th>\n",
              "      <td>110152</td>\n",
              "      <td>LLANTAS Y SERVICIOS SERNA ANAHUAC,S.A. DE C.V.</td>\n",
              "      <td>LSS841015DV3</td>\n",
              "      <td>LLS AF8458-158008-3972</td>\n",
              "      <td>OT. 20204373</td>\n",
              "      <td>REEMPLAZO E INSTALACION DE AMORTIGUADORES (DEL...</td>\n",
              "      <td>TR</td>\n",
              "      <td>1019110.0</td>\n",
              "      <td>2020-12-11</td>\n",
              "      <td>14911.80</td>\n",
              "      <td>GASTOS VARIOS</td>\n",
              "    </tr>\n",
              "    <tr>\n",
              "      <th>1</th>\n",
              "      <td>110152</td>\n",
              "      <td>LLANTAS Y SERVICIOS SERNA ANAHUAC,S.A. DE C.V.</td>\n",
              "      <td>LSS841015DV3</td>\n",
              "      <td>LLS PF6916-158008-4041</td>\n",
              "      <td>OT. 20204425</td>\n",
              "      <td>REEMPLAZO E INSTALACION DE OCHO BIRLOS Y NUEVE...</td>\n",
              "      <td>TR</td>\n",
              "      <td>1019110.0</td>\n",
              "      <td>2020-12-11</td>\n",
              "      <td>2528.80</td>\n",
              "      <td>GASTOS VARIOS</td>\n",
              "    </tr>\n",
              "    <tr>\n",
              "      <th>2</th>\n",
              "      <td>110152</td>\n",
              "      <td>LLANTAS Y SERVICIOS SERNA ANAHUAC,S.A. DE C.V.</td>\n",
              "      <td>LSS841015DV3</td>\n",
              "      <td>LLS PF6917-158008-3975</td>\n",
              "      <td>OT. 20204376</td>\n",
              "      <td>REEMPLAZO DE DOS RINES  (17). PATRIMONIO 80383...</td>\n",
              "      <td>TR</td>\n",
              "      <td>1019110.0</td>\n",
              "      <td>2020-12-11</td>\n",
              "      <td>8500.02</td>\n",
              "      <td>GASTOS VARIOS</td>\n",
              "    </tr>\n",
              "    <tr>\n",
              "      <th>3</th>\n",
              "      <td>110152</td>\n",
              "      <td>LLANTAS Y SERVICIOS SERNA ANAHUAC,S.A. DE C.V.</td>\n",
              "      <td>LSS841015DV3</td>\n",
              "      <td>LLS PF7004-158008-3971</td>\n",
              "      <td>OT. 20204374</td>\n",
              "      <td>REEMPLAZO DE  DOS RINES  (14). PATRIMONIO 8007...</td>\n",
              "      <td>TR</td>\n",
              "      <td>1019110.0</td>\n",
              "      <td>2020-12-11</td>\n",
              "      <td>2400.01</td>\n",
              "      <td>GASTOS VARIOS</td>\n",
              "    </tr>\n",
              "    <tr>\n",
              "      <th>4</th>\n",
              "      <td>110152</td>\n",
              "      <td>LLANTAS Y SERVICIOS SERNA ANAHUAC,S.A. DE C.V.</td>\n",
              "      <td>LSS841015DV3</td>\n",
              "      <td>LLS PF7137-158008-4554</td>\n",
              "      <td>OT. 20205130</td>\n",
              "      <td>REEMPLAZO E INSTALACION DE RIN 14. PATRIMONIO ...</td>\n",
              "      <td>TR</td>\n",
              "      <td>299001496.0</td>\n",
              "      <td>2020-12-23</td>\n",
              "      <td>1537.00</td>\n",
              "      <td>GASTOS VARIOS</td>\n",
              "    </tr>\n",
              "  </tbody>\n",
              "</table>\n",
              "</div>\n",
              "      <button class=\"colab-df-convert\" onclick=\"convertToInteractive('df-61b2410d-6b25-48e3-adac-4e252e0b34c0')\"\n",
              "              title=\"Convert this dataframe to an interactive table.\"\n",
              "              style=\"display:none;\">\n",
              "        \n",
              "  <svg xmlns=\"http://www.w3.org/2000/svg\" height=\"24px\"viewBox=\"0 0 24 24\"\n",
              "       width=\"24px\">\n",
              "    <path d=\"M0 0h24v24H0V0z\" fill=\"none\"/>\n",
              "    <path d=\"M18.56 5.44l.94 2.06.94-2.06 2.06-.94-2.06-.94-.94-2.06-.94 2.06-2.06.94zm-11 1L8.5 8.5l.94-2.06 2.06-.94-2.06-.94L8.5 2.5l-.94 2.06-2.06.94zm10 10l.94 2.06.94-2.06 2.06-.94-2.06-.94-.94-2.06-.94 2.06-2.06.94z\"/><path d=\"M17.41 7.96l-1.37-1.37c-.4-.4-.92-.59-1.43-.59-.52 0-1.04.2-1.43.59L10.3 9.45l-7.72 7.72c-.78.78-.78 2.05 0 2.83L4 21.41c.39.39.9.59 1.41.59.51 0 1.02-.2 1.41-.59l7.78-7.78 2.81-2.81c.8-.78.8-2.07 0-2.86zM5.41 20L4 18.59l7.72-7.72 1.47 1.35L5.41 20z\"/>\n",
              "  </svg>\n",
              "      </button>\n",
              "      \n",
              "  <style>\n",
              "    .colab-df-container {\n",
              "      display:flex;\n",
              "      flex-wrap:wrap;\n",
              "      gap: 12px;\n",
              "    }\n",
              "\n",
              "    .colab-df-convert {\n",
              "      background-color: #E8F0FE;\n",
              "      border: none;\n",
              "      border-radius: 50%;\n",
              "      cursor: pointer;\n",
              "      display: none;\n",
              "      fill: #1967D2;\n",
              "      height: 32px;\n",
              "      padding: 0 0 0 0;\n",
              "      width: 32px;\n",
              "    }\n",
              "\n",
              "    .colab-df-convert:hover {\n",
              "      background-color: #E2EBFA;\n",
              "      box-shadow: 0px 1px 2px rgba(60, 64, 67, 0.3), 0px 1px 3px 1px rgba(60, 64, 67, 0.15);\n",
              "      fill: #174EA6;\n",
              "    }\n",
              "\n",
              "    [theme=dark] .colab-df-convert {\n",
              "      background-color: #3B4455;\n",
              "      fill: #D2E3FC;\n",
              "    }\n",
              "\n",
              "    [theme=dark] .colab-df-convert:hover {\n",
              "      background-color: #434B5C;\n",
              "      box-shadow: 0px 1px 3px 1px rgba(0, 0, 0, 0.15);\n",
              "      filter: drop-shadow(0px 1px 2px rgba(0, 0, 0, 0.3));\n",
              "      fill: #FFFFFF;\n",
              "    }\n",
              "  </style>\n",
              "\n",
              "      <script>\n",
              "        const buttonEl =\n",
              "          document.querySelector('#df-61b2410d-6b25-48e3-adac-4e252e0b34c0 button.colab-df-convert');\n",
              "        buttonEl.style.display =\n",
              "          google.colab.kernel.accessAllowed ? 'block' : 'none';\n",
              "\n",
              "        async function convertToInteractive(key) {\n",
              "          const element = document.querySelector('#df-61b2410d-6b25-48e3-adac-4e252e0b34c0');\n",
              "          const dataTable =\n",
              "            await google.colab.kernel.invokeFunction('convertToInteractive',\n",
              "                                                     [key], {});\n",
              "          if (!dataTable) return;\n",
              "\n",
              "          const docLinkHtml = 'Like what you see? Visit the ' +\n",
              "            '<a target=\"_blank\" href=https://colab.research.google.com/notebooks/data_table.ipynb>data table notebook</a>'\n",
              "            + ' to learn more about interactive tables.';\n",
              "          element.innerHTML = '';\n",
              "          dataTable['output_type'] = 'display_data';\n",
              "          await google.colab.output.renderOutput(dataTable, element);\n",
              "          const docLink = document.createElement('div');\n",
              "          docLink.innerHTML = docLinkHtml;\n",
              "          element.appendChild(docLink);\n",
              "        }\n",
              "      </script>\n",
              "    </div>\n",
              "  </div>\n",
              "  "
            ]
          },
          "metadata": {},
          "execution_count": 8
        }
      ]
    },
    {
      "cell_type": "markdown",
      "source": [
        "Miramos cuantos datos tenemos a esta altura"
      ],
      "metadata": {
        "id": "95hJYOOYXjLe"
      }
    },
    {
      "cell_type": "code",
      "source": [
        "len (df_compras_dic)"
      ],
      "metadata": {
        "colab": {
          "base_uri": "https://localhost:8080/"
        },
        "id": "aERSct2IXo0k",
        "outputId": "11f3c3c8-0f85-4f7a-ca28-dac8a3260d95"
      },
      "execution_count": null,
      "outputs": [
        {
          "output_type": "execute_result",
          "data": {
            "text/plain": [
              "1774"
            ]
          },
          "metadata": {},
          "execution_count": 9
        }
      ]
    },
    {
      "cell_type": "markdown",
      "source": [
        "El archivo tiene filas  con totales  atravesados en varias partes de nuestra tabla , procederemos a eliminar esto"
      ],
      "metadata": {
        "id": "41985VHTX9SR"
      }
    },
    {
      "cell_type": "code",
      "source": [
        "df_compras_dic_com = df_compras_dic.dropna (how ='any')"
      ],
      "metadata": {
        "id": "4b9uP-j_YePg"
      },
      "execution_count": null,
      "outputs": []
    },
    {
      "cell_type": "markdown",
      "source": [
        "Procedemos a mirar con esta elinimacion cuantas columnas quedaron restantes"
      ],
      "metadata": {
        "id": "OWxobPF3Y5HL"
      }
    },
    {
      "cell_type": "code",
      "source": [
        "len (df_compras_dic_com)"
      ],
      "metadata": {
        "colab": {
          "base_uri": "https://localhost:8080/"
        },
        "id": "8Z1ZaRhkY_qR",
        "outputId": "47b00acd-b3ea-485c-c617-e832cf511048"
      },
      "execution_count": null,
      "outputs": [
        {
          "output_type": "execute_result",
          "data": {
            "text/plain": [
              "1540"
            ]
          },
          "metadata": {},
          "execution_count": 11
        }
      ]
    },
    {
      "cell_type": "markdown",
      "source": [
        "Analizamos el tipo de datos que contiene la tabla"
      ],
      "metadata": {
        "id": "ebVen83MZYto"
      }
    },
    {
      "cell_type": "code",
      "source": [
        "df_compras_dic_com.dtypes"
      ],
      "metadata": {
        "colab": {
          "base_uri": "https://localhost:8080/"
        },
        "id": "rDLE8gpHZb2v",
        "outputId": "bcdc2c5e-96a2-4aed-9479-e443bd1d61f0"
      },
      "execution_count": null,
      "outputs": [
        {
          "output_type": "execute_result",
          "data": {
            "text/plain": [
              "NUM BEN                 object\n",
              "BENEFICIARIO            object\n",
              "RFC                     object\n",
              "FACTURA                 object\n",
              "CONTRATO                object\n",
              "CONCEPTO                object\n",
              "TIPO                    object\n",
              "# OP                   float64\n",
              "FECHA           datetime64[ns]\n",
              "IMPORTE                float64\n",
              "SHEET                   object\n",
              "dtype: object"
            ]
          },
          "metadata": {},
          "execution_count": 12
        }
      ]
    },
    {
      "cell_type": "markdown",
      "source": [
        "Revisamos que los datos si sena correctos , se supone que es un archivo de diciembre, revisamos que todo si sea de diciembre no que aparezca ningun dato por fuera de ese mes, MES 12 🦾 CORRECTO"
      ],
      "metadata": {
        "id": "Kb6AMqkcgCVb"
      }
    },
    {
      "cell_type": "code",
      "source": [
        "df_compras_dic_com ['FECHA'].apply(lambda x: x.month).value_counts()"
      ],
      "metadata": {
        "colab": {
          "base_uri": "https://localhost:8080/"
        },
        "id": "vhr4LCDDgP8D",
        "outputId": "e3baa606-ea8d-4d35-a84b-8ceae52eef22"
      },
      "execution_count": null,
      "outputs": [
        {
          "output_type": "execute_result",
          "data": {
            "text/plain": [
              "12    1540\n",
              "Name: FECHA, dtype: int64"
            ]
          },
          "metadata": {},
          "execution_count": 13
        }
      ]
    },
    {
      "cell_type": "markdown",
      "source": [
        "GUARDAMOS EN UNA CARPETA ( data: carpeta creada , clean_compras= nombre que el voy a signar a mi archivo en csv) y le pedimos que no guarde el indece con lo ultimo"
      ],
      "metadata": {
        "id": "Yc5MAjSfjfm9"
      }
    },
    {
      "cell_type": "code",
      "source": [
        "df_compras_dic_com.to_csv('/content/drive/MyDrive/PROYETO CLASE/clean_compras.csv', index=None)"
      ],
      "metadata": {
        "id": "LRUNMxU1jigb"
      },
      "execution_count": null,
      "outputs": []
    }
  ]
}